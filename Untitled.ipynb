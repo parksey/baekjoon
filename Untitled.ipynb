{
 "cells": [
  {
   "cell_type": "code",
   "execution_count": 4,
   "id": "169fec6f-3b6d-48d1-9776-91958f97de22",
   "metadata": {
    "collapsed": true,
    "jupyter": {
     "outputs_hidden": true
    },
    "tags": []
   },
   "outputs": [
    {
     "name": "stdin",
     "output_type": "stream",
     "text": [
      " 8\n",
      " 1 8\n",
      " 3 9\n",
      " 2 2\n",
      " 4 1\n",
      " 6 4\n",
      " 10 10\n",
      " 9 7\n",
      " 7 6\n"
     ]
    },
    {
     "name": "stdout",
     "output_type": "stream",
     "text": [
      "[1, 1, 2, 1, 2, 3, 4, 5]\n"
     ]
    }
   ],
   "source": [
    "#2556\n",
    "N = int(input())\n",
    "data = [list(map(int, input().split())) for i in range(N)]\n",
    "\n",
    "sorted_data = sorted(data, key = lambda x: x[0])"
   ]
  },
  {
   "cell_type": "code",
   "execution_count": 19,
   "id": "c48fbfd2-8dff-484e-8ff4-3f9c07dfb951",
   "metadata": {
    "collapsed": true,
    "jupyter": {
     "outputs_hidden": true
    },
    "tags": []
   },
   "outputs": [
    {
     "name": "stdout",
     "output_type": "stream",
     "text": [
      "[1, 0, 0, 0, 0, 0, 0, 0]\n",
      "[1, 1, 0, 0, 0, 0, 0, 0]\n",
      "[1, 1, 2, 0, 0, 0, 0, 0]\n",
      "[1, 1, 2, 1, 0, 0, 0, 0]\n",
      "[1, 1, 2, 1, 2, 0, 0, 0]\n",
      "[1, 1, 2, 1, 2, 3, 0, 0]\n",
      "[1, 1, 2, 1, 2, 3, 4, 0]\n",
      "[1, 1, 2, 1, 2, 3, 4, 5]\n",
      "[1, 1, 2, 1, 2, 3, 4, 5]\n"
     ]
    }
   ],
   "source": [
    "#2556"
   ]
  },
  {
   "cell_type": "code",
   "execution_count": null,
   "id": "a706fb6b-3bc0-4941-8d3f-cfa66588c93d",
   "metadata": {},
   "outputs": [],
   "source": [
    "str1 = input()\n",
    "str2 = input()\n",
    "\n"
   ]
  },
  {
   "cell_type": "code",
   "execution_count": 16,
   "id": "df332850-f846-40ad-bace-ad091ed90d86",
   "metadata": {
    "collapsed": true,
    "jupyter": {
     "outputs_hidden": true
    },
    "tags": []
   },
   "outputs": [
    {
     "name": "stdin",
     "output_type": "stream",
     "text": [
      " 5 3\n",
      " 5 4 3 2 1\n"
     ]
    },
    {
     "ename": "KeyboardInterrupt",
     "evalue": "Interrupted by user",
     "output_type": "error",
     "traceback": [
      "\u001b[1;31m---------------------------------------------------------------------------\u001b[0m",
      "\u001b[1;31mKeyboardInterrupt\u001b[0m                         Traceback (most recent call last)",
      "\u001b[1;32m~\\AppData\\Local\\Temp/ipykernel_3412/2267790628.py\u001b[0m in \u001b[0;36m<module>\u001b[1;34m\u001b[0m\n\u001b[0;32m     10\u001b[0m \u001b[1;33m\u001b[0m\u001b[0m\n\u001b[0;32m     11\u001b[0m \u001b[1;32mfor\u001b[0m \u001b[0m_\u001b[0m \u001b[1;32min\u001b[0m \u001b[0mrange\u001b[0m\u001b[1;33m(\u001b[0m\u001b[0mM\u001b[0m\u001b[1;33m)\u001b[0m\u001b[1;33m:\u001b[0m\u001b[1;33m\u001b[0m\u001b[1;33m\u001b[0m\u001b[0m\n\u001b[1;32m---> 12\u001b[1;33m     \u001b[0mstart\u001b[0m\u001b[1;33m,\u001b[0m \u001b[0mend\u001b[0m \u001b[1;33m=\u001b[0m \u001b[0mmap\u001b[0m\u001b[1;33m(\u001b[0m\u001b[0mint\u001b[0m\u001b[1;33m,\u001b[0m \u001b[0minput\u001b[0m\u001b[1;33m(\u001b[0m\u001b[1;33m)\u001b[0m\u001b[1;33m.\u001b[0m\u001b[0msplit\u001b[0m\u001b[1;33m(\u001b[0m\u001b[1;33m)\u001b[0m\u001b[1;33m)\u001b[0m\u001b[1;33m\u001b[0m\u001b[1;33m\u001b[0m\u001b[0m\n\u001b[0m\u001b[0;32m     13\u001b[0m     \u001b[0mprint\u001b[0m\u001b[1;33m(\u001b[0m\u001b[0madd\u001b[0m\u001b[1;33m[\u001b[0m\u001b[0mend\u001b[0m\u001b[1;33m]\u001b[0m \u001b[1;33m-\u001b[0m \u001b[0madd\u001b[0m\u001b[1;33m[\u001b[0m\u001b[0mstart\u001b[0m\u001b[1;33m-\u001b[0m\u001b[1;36m1\u001b[0m\u001b[1;33m]\u001b[0m\u001b[1;33m)\u001b[0m\u001b[1;33m\u001b[0m\u001b[1;33m\u001b[0m\u001b[0m\n",
      "\u001b[1;32mC:\\Anaconda3\\lib\\site-packages\\ipykernel\\kernelbase.py\u001b[0m in \u001b[0;36mraw_input\u001b[1;34m(self, prompt)\u001b[0m\n\u001b[0;32m   1004\u001b[0m                 \u001b[1;34m\"raw_input was called, but this frontend does not support input requests.\"\u001b[0m\u001b[1;33m\u001b[0m\u001b[1;33m\u001b[0m\u001b[0m\n\u001b[0;32m   1005\u001b[0m             )\n\u001b[1;32m-> 1006\u001b[1;33m         return self._input_request(\n\u001b[0m\u001b[0;32m   1007\u001b[0m             \u001b[0mstr\u001b[0m\u001b[1;33m(\u001b[0m\u001b[0mprompt\u001b[0m\u001b[1;33m)\u001b[0m\u001b[1;33m,\u001b[0m\u001b[1;33m\u001b[0m\u001b[1;33m\u001b[0m\u001b[0m\n\u001b[0;32m   1008\u001b[0m             \u001b[0mself\u001b[0m\u001b[1;33m.\u001b[0m\u001b[0m_parent_ident\u001b[0m\u001b[1;33m[\u001b[0m\u001b[1;34m\"shell\"\u001b[0m\u001b[1;33m]\u001b[0m\u001b[1;33m,\u001b[0m\u001b[1;33m\u001b[0m\u001b[1;33m\u001b[0m\u001b[0m\n",
      "\u001b[1;32mC:\\Anaconda3\\lib\\site-packages\\ipykernel\\kernelbase.py\u001b[0m in \u001b[0;36m_input_request\u001b[1;34m(self, prompt, ident, parent, password)\u001b[0m\n\u001b[0;32m   1049\u001b[0m             \u001b[1;32mexcept\u001b[0m \u001b[0mKeyboardInterrupt\u001b[0m\u001b[1;33m:\u001b[0m\u001b[1;33m\u001b[0m\u001b[1;33m\u001b[0m\u001b[0m\n\u001b[0;32m   1050\u001b[0m                 \u001b[1;31m# re-raise KeyboardInterrupt, to truncate traceback\u001b[0m\u001b[1;33m\u001b[0m\u001b[1;33m\u001b[0m\u001b[0m\n\u001b[1;32m-> 1051\u001b[1;33m                 \u001b[1;32mraise\u001b[0m \u001b[0mKeyboardInterrupt\u001b[0m\u001b[1;33m(\u001b[0m\u001b[1;34m\"Interrupted by user\"\u001b[0m\u001b[1;33m)\u001b[0m \u001b[1;32mfrom\u001b[0m \u001b[1;32mNone\u001b[0m\u001b[1;33m\u001b[0m\u001b[1;33m\u001b[0m\u001b[0m\n\u001b[0m\u001b[0;32m   1052\u001b[0m             \u001b[1;32mexcept\u001b[0m \u001b[0mException\u001b[0m\u001b[1;33m:\u001b[0m\u001b[1;33m\u001b[0m\u001b[1;33m\u001b[0m\u001b[0m\n\u001b[0;32m   1053\u001b[0m                 \u001b[0mself\u001b[0m\u001b[1;33m.\u001b[0m\u001b[0mlog\u001b[0m\u001b[1;33m.\u001b[0m\u001b[0mwarning\u001b[0m\u001b[1;33m(\u001b[0m\u001b[1;34m\"Invalid Message:\"\u001b[0m\u001b[1;33m,\u001b[0m \u001b[0mexc_info\u001b[0m\u001b[1;33m=\u001b[0m\u001b[1;32mTrue\u001b[0m\u001b[1;33m)\u001b[0m\u001b[1;33m\u001b[0m\u001b[1;33m\u001b[0m\u001b[0m\n",
      "\u001b[1;31mKeyboardInterrupt\u001b[0m: Interrupted by user"
     ]
    }
   ],
   "source": [
    "# 11659\n",
    "import sys\n",
    "N, M = map(int, input().split())\n",
    "\n",
    "result= list(map(int, input().split()))\n",
    "add = [0]\n",
    "\n",
    "for i in range(N):\n",
    "    add.append(add[i]+result[i])\n",
    "    \n",
    "for _ in range(M):\n",
    "    start, end = map(int, input().split())\n",
    "    print(add[end] - add[start-1])"
   ]
  },
  {
   "cell_type": "code",
   "execution_count": 77,
   "id": "c47d5501-5471-4944-b34a-2e4ef18edd91",
   "metadata": {},
   "outputs": [
    {
     "name": "stdin",
     "output_type": "stream",
     "text": [
      " 5 3\n",
      " 1 2 3 1 2\n"
     ]
    },
    {
     "name": "stdout",
     "output_type": "stream",
     "text": [
      "[1]\n",
      "1 \n",
      "[2, 1]\n",
      "2 3 \n",
      "[3, 2, 1]\n",
      "3 5 6 \n",
      "[1, 3, 2, 1]\n",
      "1 4 6 7 \n",
      "[2, 1, 3, 2, 1]\n",
      "2 3 6 8 9 \n",
      "7\n"
     ]
    }
   ],
   "source": [
    "N, M = map(int, input().split())\n",
    "\n",
    "data = list(map(int, input().split()))\n",
    "sum_data = []\n",
    "cnt = 0\n",
    "for i in range(N):\n",
    "    sum = 0\n",
    "    li = []\n",
    "    for d in data[i::-1]:\n",
    "        sum +=  \n",
    "        li.append(sum)\n",
    "        if sum % M == 0:\n",
    "            cnt += 1\n",
    "            \n",
    "print(cnt)\n",
    "\"\"\"\n",
    "1\n",
    "2, 2+1\n",
    "3, 3+2, 3+2+1\n",
    "4, 4+3, 4+3+2, 4+3+2+1\n",
    "5, 5+4, 5+4+3, 5+4+3+2, 5+4+3+2+1\n",
    "\"\"\""
   ]
  },
  {
   "cell_type": "code",
   "execution_count": 8,
   "id": "856aa4cd-855a-4544-ac47-221249bd3174",
   "metadata": {},
   "outputs": [
    {
     "name": "stdin",
     "output_type": "stream",
     "text": [
      " 5 1000\n",
      " 1\n",
      " 20\n",
      " 100\n",
      " 500\n",
      " 1000\n"
     ]
    },
    {
     "name": "stdout",
     "output_type": "stream",
     "text": [
      "1\n"
     ]
    }
   ],
   "source": [
    "N, K = map(int, input().split())\n",
    "data = []\n",
    "index = 0\n",
    "for i in range(N):\n",
    "    data.append(int(input()))\n",
    "    if data[i] <= K:\n",
    "        index = i\n",
    "\n",
    "result = 0\n",
    "for d in data[index::-1]:\n",
    "    temp = K//d\n",
    "    if temp == 0:\n",
    "        continue\n",
    "    \n",
    "    result += temp\n",
    "    K -= temp * d\n",
    "print(result)"
   ]
  },
  {
   "cell_type": "code",
   "execution_count": 30,
   "id": "c779c96e-6f8a-4f5d-803b-8c54b6703d04",
   "metadata": {
    "tags": []
   },
   "outputs": [
    {
     "name": "stdin",
     "output_type": "stream",
     "text": [
      " 5\n",
      " 6 7\n",
      "  6 6\n",
      " 5 6\n",
      " 5 5\n",
      " 8 8\n"
     ]
    },
    {
     "name": "stdout",
     "output_type": "stream",
     "text": [
      "[[5, 5], [5, 6], [6, 6], [6, 7], [8, 8]]\n",
      "5\n"
     ]
    }
   ],
   "source": [
    "N  = int(input())\n",
    "result = [list(map(int, input().split())) for _ in range(N)]\n",
    "temp = [0 for _ in range(N)]\n",
    "\n",
    "def merge(start, end):\n",
    "    if start >= end:\n",
    "        return\n",
    "    \n",
    "    mid = (start+end) //2\n",
    "    merge(start, mid)\n",
    "    merge(mid+1,end)\n",
    "    \n",
    "    i = start\n",
    "    j = mid+1\n",
    "    tempIndex = i\n",
    "    \n",
    "    while i <= mid and j <= end:\n",
    "        if result[i][1] > result[j][1]:\n",
    "            temp[tempIndex] = result[j]\n",
    "            j+=1\n",
    "        elif result[i][1] < result[j][1]:\n",
    "            temp[tempIndex] = result[i]\n",
    "            i += 1\n",
    "        else:\n",
    "            if result[i][0] > result[j][0]:\n",
    "                temp[tempIndex] = result[j]\n",
    "                j += 1\n",
    "            else:\n",
    "                temp[tempIndex] = result[i]\n",
    "                i += 1\n",
    "        tempIndex += 1\n",
    "        \n",
    "    if i <= mid:\n",
    "        for index in result[i:mid+1]:\n",
    "            temp[tempIndex] = index\n",
    "            tempIndex += 1\n",
    "    elif j <= end:\n",
    "        for index in result[j:end+1]:\n",
    "            temp[tempIndex] = index\n",
    "            tempIndex += 1\n",
    "    result[start:end+1] = temp[start:end+1]\n",
    "\n",
    "merge(0, N-1)\n",
    "\n",
    "cnt = 1\n",
    "end = result[0][1]\n",
    "for i in range(1,N):\n",
    "    if result[i][0] >= end:\n",
    "        cnt += 1\n",
    "        end = result[i][1]\n",
    "print(cnt)"
   ]
  },
  {
   "cell_type": "code",
   "execution_count": 2,
   "id": "b960634c-ac49-484e-a97f-d6b8a6e51725",
   "metadata": {},
   "outputs": [
    {
     "name": "stdin",
     "output_type": "stream",
     "text": [
      " 5\n",
      " 5 6\n",
      " 5 5\n",
      " 6 6\n",
      " 5 7\n",
      " 8 8\n"
     ]
    },
    {
     "name": "stdout",
     "output_type": "stream",
     "text": [
      "[[5, 5], [5, 6], [6, 6], [5, 7], [8, 8]]\n",
      "4\n"
     ]
    }
   ],
   "source": [
    "N  = int(input())\n",
    "result = [list(map(int, input().split())) for _ in range(N)]\n",
    "\n",
    "result.sort(key=lambda x: (x[1], x[0]))\n",
    "\n",
    "cnt = 1\n",
    "end = result[0][1]\n",
    "for i in range(1,N):\n",
    "    if result[i][0] >= end:\n",
    "        cnt += 1\n",
    "        end = result[i][1]\n",
    "print(cnt)"
   ]
  },
  {
   "cell_type": "code",
   "execution_count": 11,
   "id": "e0abf4db-6e5e-444c-a61c-48be5d062fc9",
   "metadata": {},
   "outputs": [
    {
     "name": "stdin",
     "output_type": "stream",
     "text": [
      " 5\n",
      " 3 1 4 3 2\n"
     ]
    },
    {
     "data": {
      "text/plain": [
       "32"
      ]
     },
     "execution_count": 11,
     "metadata": {},
     "output_type": "execute_result"
    }
   ],
   "source": [
    "N = int(input())\n",
    "data = list(map(int, input().split()))\n",
    "data.sort()\n",
    "\n",
    "for i in range(1,len(data)):\n",
    "    data[i] += data[i-1]\n",
    "print(sum(data))"
   ]
  },
  {
   "cell_type": "code",
   "execution_count": 64,
   "id": "1fda6343-ab6e-454a-8106-94d13c4ea242",
   "metadata": {
    "tags": []
   },
   "outputs": [
    {
     "name": "stdin",
     "output_type": "stream",
     "text": [
      " 0-100+50-100+50-100\n"
     ]
    },
    {
     "name": "stdout",
     "output_type": "stream",
     "text": [
      "[0, '-', 100, '-', 50, '-', 100, '-', 50, '-', 100]\n",
      "-400\n"
     ]
    }
   ],
   "source": [
    "equation = input()\n",
    "eq_list = []\n",
    "start = 0\n",
    "end = -1\n",
    "inMinus = False\n",
    "for i,c in enumerate(equation):\n",
    "    #number = -1\n",
    "    if c == '+' or c=='-':\n",
    "        if c == '-':\n",
    "            inMinus = True\n",
    "        end = i\n",
    "        number = equation[start:end]\n",
    "        non_zero=0\n",
    "        for j in range(len(number)):\n",
    "            if number[j] !='0':\n",
    "                non_zero = j\n",
    "                break\n",
    "        number = number[non_zero:]\n",
    "        if number == '':\n",
    "            eq_list.append(0)\n",
    "        else:\n",
    "            eq_list.append(int(number))\n",
    "        \n",
    "        if inMinus:\n",
    "            eq_list.append('-')\n",
    "        else:\n",
    "            eq_list.append(c)\n",
    "        start = i+1\n",
    "eq_list.append(int(equation[end+1:]))\n",
    "print(eq_list)\n",
    "result = eq_list[0]\n",
    "\n",
    "for i in range(1,len(eq_list)-1):\n",
    "    if eq_list[i] == '+':\n",
    "        result += eq_list[i+1]\n",
    "    elif eq_list[i] == '-':\n",
    "        result -= eq_list[i+1]\n",
    "print(result)\n"
   ]
  },
  {
   "cell_type": "code",
   "execution_count": 49,
   "id": "7f5f0fa9-f072-47cf-ac22-c72fdcc746b8",
   "metadata": {},
   "outputs": [
    {
     "name": "stdin",
     "output_type": "stream",
     "text": [
      " 50+50-40\n"
     ]
    },
    {
     "name": "stdout",
     "output_type": "stream",
     "text": [
      "[0, '+', 50, '-', 40]\n"
     ]
    }
   ],
   "source": [
    "equation = input()\n",
    "eq_list = []\n",
    "result = 0\n",
    "inMinus = False\n",
    "for i,c in enumerate(equation):\n",
    "    if c == '+' or c=='-':\n",
    "        if equation[i] == '-':\n",
    "            inMinus = True\n",
    "        \n",
    "        end = i\n",
    "        \n",
    "        number = equation[start:end]\n",
    "        non_zero=0\n",
    "        for j in range(len(number)):\n",
    "            if number[j] !='0':\n",
    "                non_zero = j\n",
    "                break\n",
    "        number = number[non_zero:]\n",
    "        if number == '':\n",
    "            eq_list.append(0)\n",
    "        else:\n",
    "            eq_list.append(int(number))\n",
    "        \n",
    "        if inMinus:\n",
    "            eq_list.append('-')\n",
    "        else:\n",
    "            eq_list.append(c)\n",
    "        start = i+1\n",
    "eq_list.append(int(equation[end+1:]))\n",
    "\n",
    "# inMinus = False\n",
    "# result = eq_list[0]\n",
    "# part_result = 0\n",
    "# print(eq_list[1:-1])\n",
    "# for i in range(1,len(eq_list)-1):\n",
    "#     print(result)\n",
    "    \n",
    "\n",
    "#     elif eq_list[i] == '+':\n",
    "#         if inMinus:\n",
    "#             print(\"-\")\n",
    "#             result -= eq_list[i+1]\n",
    "#         else:\n",
    "#             print(\"+\")\n",
    "#             result += eq_list[i+1]\n",
    "print(eq_list)\n",
    "# print(result)"
   ]
  },
  {
   "cell_type": "code",
   "execution_count": 30,
   "id": "90bd28a4-a9c0-4937-b0af-e30852ff89df",
   "metadata": {},
   "outputs": [
    {
     "name": "stdin",
     "output_type": "stream",
     "text": [
      " 2\n",
      " 1\n",
      " 5 2\n"
     ]
    }
   ],
   "source": []
  },
  {
   "cell_type": "code",
   "execution_count": 34,
   "id": "1f090e99-1208-4c3b-87d1-a49f3b3fdf6c",
   "metadata": {},
   "outputs": [
    {
     "name": "stdin",
     "output_type": "stream",
     "text": [
      " 4\n",
      " 2 2 2\n",
      " 2 3 1 1\n"
     ]
    },
    {
     "name": "stdout",
     "output_type": "stream",
     "text": [
      "12\n"
     ]
    }
   ],
   "source": [
    "def solve():\n",
    "    N = int(input())\n",
    "    distance = list(map(int, input().split()))\n",
    "    cost = list(map(int, input().split()))\n",
    "    result = cost[0] * distance[0]\n",
    "\n",
    "    if N == 2:\n",
    "        return result\n",
    "    \n",
    "    min_cost = cost[1:].index(min(cost[1:-1])) + 1\n",
    "    \n",
    "    for i in range(1, len(cost)-1):\n",
    "        if min_cost > i:\n",
    "            result += cost[i] * distance[i]\n",
    "        elif min_cost == i:\n",
    "            result += cost[i] * sum(distance[i:])\n",
    "            break\n",
    "    return result\n",
    "print(solve())"
   ]
  },
  {
   "cell_type": "code",
   "execution_count": 40,
   "id": "f61c1328-0145-4c14-916f-df47bcee737c",
   "metadata": {},
   "outputs": [
    {
     "name": "stdin",
     "output_type": "stream",
     "text": [
      " 4\n",
      " 2 2 2\n",
      " 2 3 1 1\n"
     ]
    },
    {
     "name": "stdout",
     "output_type": "stream",
     "text": [
      "2 3\n",
      "2 1\n",
      "10\n"
     ]
    }
   ],
   "source": [
    "def solve():\n",
    "    N = int(input())\n",
    "    distance = list(map(int, input().split()))\n",
    "    cost = list(map(int, input().split()))\n",
    "    result = cost[0] * distance[0]\n",
    "\n",
    "    if N == 2:\n",
    "        return result\n",
    "    \n",
    "    min_cost = cost[0]\n",
    "    \n",
    "    for i in range(1, len(cost)-1):\n",
    "        if min_cost <= cost[i]:\n",
    "            result += min_cost * distance[i]\n",
    "        else:\n",
    "            min_cost = cost[i]\n",
    "            result += min_cost * distance[i]\n",
    "    return result\n",
    "print(solve())"
   ]
  },
  {
   "cell_type": "code",
   "execution_count": 14,
   "id": "3321b2b6-c98b-4ed4-ac5e-9ad827fba446",
   "metadata": {
    "tags": []
   },
   "outputs": [
    {
     "name": "stdin",
     "output_type": "stream",
     "text": [
      " 14\n",
      " push 1\n",
      " push 2\n",
      " top\n"
     ]
    },
    {
     "name": "stdout",
     "output_type": "stream",
     "text": [
      "2\n"
     ]
    },
    {
     "name": "stdin",
     "output_type": "stream",
     "text": [
      " size\n"
     ]
    },
    {
     "name": "stdout",
     "output_type": "stream",
     "text": [
      "2\n"
     ]
    },
    {
     "name": "stdin",
     "output_type": "stream",
     "text": [
      " empty\n"
     ]
    },
    {
     "name": "stdout",
     "output_type": "stream",
     "text": [
      "0\n"
     ]
    },
    {
     "name": "stdin",
     "output_type": "stream",
     "text": [
      " pop\n"
     ]
    },
    {
     "name": "stdout",
     "output_type": "stream",
     "text": [
      "2\n"
     ]
    },
    {
     "name": "stdin",
     "output_type": "stream",
     "text": [
      " pop\n"
     ]
    },
    {
     "name": "stdout",
     "output_type": "stream",
     "text": [
      "1\n"
     ]
    },
    {
     "name": "stdin",
     "output_type": "stream",
     "text": [
      " pop\n"
     ]
    },
    {
     "name": "stdout",
     "output_type": "stream",
     "text": [
      "-1\n"
     ]
    },
    {
     "name": "stdin",
     "output_type": "stream",
     "text": [
      " size\n"
     ]
    },
    {
     "name": "stdout",
     "output_type": "stream",
     "text": [
      "0\n"
     ]
    },
    {
     "name": "stdin",
     "output_type": "stream",
     "text": [
      " empty\n"
     ]
    },
    {
     "name": "stdout",
     "output_type": "stream",
     "text": [
      "1\n"
     ]
    },
    {
     "name": "stdin",
     "output_type": "stream",
     "text": [
      " pop\n"
     ]
    },
    {
     "name": "stdout",
     "output_type": "stream",
     "text": [
      "-1\n"
     ]
    },
    {
     "name": "stdin",
     "output_type": "stream",
     "text": [
      " push 3\n",
      " empty\n"
     ]
    },
    {
     "name": "stdout",
     "output_type": "stream",
     "text": [
      "0\n"
     ]
    },
    {
     "name": "stdin",
     "output_type": "stream",
     "text": [
      " top\n"
     ]
    },
    {
     "name": "stdout",
     "output_type": "stream",
     "text": [
      "3\n"
     ]
    }
   ],
   "source": [
    "N = int(input())\n",
    "stack = []\n",
    "\n",
    "\n",
    "def push(data):\n",
    "    stack.append(data)\n",
    "\n",
    "def pop():\n",
    "    global stack\n",
    "    if size() == 0:\n",
    "        return -1\n",
    "    \n",
    "    last = stack[-1]\n",
    "    stack = stack[:-1]\n",
    "    return last\n",
    "\n",
    "def size():\n",
    "    return len(stack)\n",
    "\n",
    "def empty():\n",
    "    return 0 if size() else 1\n",
    "\n",
    "def top():\n",
    "    if size() == 0:\n",
    "        return -1\n",
    "    \n",
    "    return stack[-1]\n",
    "   \n",
    "\n",
    "for i in range(N):\n",
    "    command = sy().split()\n",
    "    \n",
    "    if command[0] == \"push\":\n",
    "        push(command[1])\n",
    "    elif command[0] == \"pop\":\n",
    "        print(pop())\n",
    "    elif command[0] == \"size\":\n",
    "        print(size())\n",
    "    elif command[0] == \"empty\":\n",
    "        print(empty())\n",
    "    elif command[0] == \"top\":\n",
    "        print(top())\n",
    "    "
   ]
  },
  {
   "cell_type": "code",
   "execution_count": 20,
   "id": "8ba32359-0327-4bbb-8d64-c3c2eadbcf9b",
   "metadata": {},
   "outputs": [
    {
     "name": "stdin",
     "output_type": "stream",
     "text": [
      " 4\n",
      " 0\n",
      " 0\n",
      " 0\n",
      " 0\n"
     ]
    },
    {
     "name": "stdout",
     "output_type": "stream",
     "text": [
      "0\n"
     ]
    }
   ],
   "source": [
    "result = []\n",
    "for i in range(int(input())):\n",
    "    num = int(input())\n",
    "    \n",
    "    if num == 0:\n",
    "        result= result[:-1]\n",
    "    else:\n",
    "        result.append(num)\n",
    "print(sum(result))"
   ]
  },
  {
   "cell_type": "code",
   "execution_count": 27,
   "id": "bf2f3866-2f4c-4de2-80ce-6b446bc23855",
   "metadata": {},
   "outputs": [
    {
     "name": "stdin",
     "output_type": "stream",
     "text": [
      " 3\n",
      " )()\n"
     ]
    },
    {
     "name": "stdout",
     "output_type": "stream",
     "text": [
      "NO\n"
     ]
    },
    {
     "name": "stdin",
     "output_type": "stream",
     "text": [
      " (())())\n"
     ]
    },
    {
     "name": "stdout",
     "output_type": "stream",
     "text": [
      "NO\n"
     ]
    },
    {
     "name": "stdin",
     "output_type": "stream",
     "text": [
      " (()())((()))\n"
     ]
    },
    {
     "name": "stdout",
     "output_type": "stream",
     "text": [
      "YES\n"
     ]
    }
   ],
   "source": [
    "for i in range(int(input())):\n",
    "    string = input()\n",
    "    isVPS = True\n",
    "    \n",
    "    re = []\n",
    "    for c in string:\n",
    "        if c == \"(\":\n",
    "            re.append(c)\n",
    "        elif c==')':\n",
    "            if len(re) == 0:\n",
    "                isVPS = False\n",
    "                break\n",
    "            else:\n",
    "                re.pop()\n",
    "    if not isVPS:\n",
    "        print(\"NO\")\n",
    "    elif len(re) == 0:\n",
    "        print(\"YES\")\n",
    "    else:\n",
    "        print(\"NO\")"
   ]
  },
  {
   "cell_type": "code",
   "execution_count": 71,
   "id": "395abd04-ee46-4b2d-820a-402ca52f872d",
   "metadata": {},
   "outputs": [
    {
     "name": "stdin",
     "output_type": "stream",
     "text": [
      " (\n"
     ]
    },
    {
     "name": "stdout",
     "output_type": "stream",
     "text": [
      "no\n"
     ]
    },
    {
     "name": "stdin",
     "output_type": "stream",
     "text": [
      " \n"
     ]
    },
    {
     "name": "stdout",
     "output_type": "stream",
     "text": [
      "yes\n"
     ]
    },
    {
     "name": "stdin",
     "output_type": "stream",
     "text": [
      " )\n"
     ]
    },
    {
     "name": "stdout",
     "output_type": "stream",
     "text": [
      "no\n"
     ]
    },
    {
     "name": "stdin",
     "output_type": "stream",
     "text": [
      " .\n"
     ]
    }
   ],
   "source": [
    "f2f = {'(': ')', '[': ']'}\n",
    "while True:\n",
    "    re = []\n",
    "    isVPS = True\n",
    "    line = input()\n",
    "    \n",
    "    if line =='.':\n",
    "        break\n",
    "    \n",
    "    for c in line:\n",
    "        if c == '(' or c=='[':\n",
    "            re.append(c)\n",
    "            continue\n",
    "            \n",
    "        if c in f2f.values():\n",
    "            if len(re) == 0:\n",
    "                isVPS = False\n",
    "                break\n",
    "            elif c == f2f[re[-1]]:\n",
    "                re = re[:-1]\n",
    "\n",
    "    if not isVPS:\n",
    "        print(\"no\")\n",
    "    elif len(re) == 0:\n",
    "        print(\"yes\")\n",
    "    else:\n",
    "        print(\"no\")"
   ]
  },
  {
   "cell_type": "code",
   "execution_count": 72,
   "id": "1938119e-e032-4588-bef4-18b186fb72d4",
   "metadata": {
    "collapsed": true,
    "jupyter": {
     "outputs_hidden": true
    },
    "tags": []
   },
   "outputs": [
    {
     "ename": "KeyboardInterrupt",
     "evalue": "Interrupted by user",
     "output_type": "error",
     "traceback": [
      "\u001b[1;31m---------------------------------------------------------------------------\u001b[0m",
      "\u001b[1;31mKeyboardInterrupt\u001b[0m                         Traceback (most recent call last)",
      "\u001b[1;32m~\\AppData\\Local\\Temp/ipykernel_13648/84685744.py\u001b[0m in \u001b[0;36m<module>\u001b[1;34m\u001b[0m\n\u001b[0;32m      4\u001b[0m     \u001b[0mre\u001b[0m \u001b[1;33m=\u001b[0m \u001b[1;33m[\u001b[0m\u001b[1;33m]\u001b[0m\u001b[1;33m\u001b[0m\u001b[1;33m\u001b[0m\u001b[0m\n\u001b[0;32m      5\u001b[0m     \u001b[0misVPS\u001b[0m \u001b[1;33m=\u001b[0m \u001b[1;32mTrue\u001b[0m\u001b[1;33m\u001b[0m\u001b[1;33m\u001b[0m\u001b[0m\n\u001b[1;32m----> 6\u001b[1;33m     \u001b[0mstring\u001b[0m \u001b[1;33m=\u001b[0m \u001b[0minput\u001b[0m\u001b[1;33m(\u001b[0m\u001b[1;33m)\u001b[0m\u001b[1;33m\u001b[0m\u001b[1;33m\u001b[0m\u001b[0m\n\u001b[0m\u001b[0;32m      7\u001b[0m     \u001b[1;32mif\u001b[0m \u001b[0mstring\u001b[0m \u001b[1;33m==\u001b[0m \u001b[1;34m\".\"\u001b[0m\u001b[1;33m:\u001b[0m\u001b[1;33m\u001b[0m\u001b[1;33m\u001b[0m\u001b[0m\n\u001b[0;32m      8\u001b[0m         \u001b[1;32mbreak\u001b[0m\u001b[1;33m\u001b[0m\u001b[1;33m\u001b[0m\u001b[0m\n",
      "\u001b[1;32mC:\\Anaconda3\\lib\\site-packages\\ipykernel\\kernelbase.py\u001b[0m in \u001b[0;36mraw_input\u001b[1;34m(self, prompt)\u001b[0m\n\u001b[0;32m   1004\u001b[0m                 \u001b[1;34m\"raw_input was called, but this frontend does not support input requests.\"\u001b[0m\u001b[1;33m\u001b[0m\u001b[1;33m\u001b[0m\u001b[0m\n\u001b[0;32m   1005\u001b[0m             )\n\u001b[1;32m-> 1006\u001b[1;33m         return self._input_request(\n\u001b[0m\u001b[0;32m   1007\u001b[0m             \u001b[0mstr\u001b[0m\u001b[1;33m(\u001b[0m\u001b[0mprompt\u001b[0m\u001b[1;33m)\u001b[0m\u001b[1;33m,\u001b[0m\u001b[1;33m\u001b[0m\u001b[1;33m\u001b[0m\u001b[0m\n\u001b[0;32m   1008\u001b[0m             \u001b[0mself\u001b[0m\u001b[1;33m.\u001b[0m\u001b[0m_parent_ident\u001b[0m\u001b[1;33m[\u001b[0m\u001b[1;34m\"shell\"\u001b[0m\u001b[1;33m]\u001b[0m\u001b[1;33m,\u001b[0m\u001b[1;33m\u001b[0m\u001b[1;33m\u001b[0m\u001b[0m\n",
      "\u001b[1;32mC:\\Anaconda3\\lib\\site-packages\\ipykernel\\kernelbase.py\u001b[0m in \u001b[0;36m_input_request\u001b[1;34m(self, prompt, ident, parent, password)\u001b[0m\n\u001b[0;32m   1049\u001b[0m             \u001b[1;32mexcept\u001b[0m \u001b[0mKeyboardInterrupt\u001b[0m\u001b[1;33m:\u001b[0m\u001b[1;33m\u001b[0m\u001b[1;33m\u001b[0m\u001b[0m\n\u001b[0;32m   1050\u001b[0m                 \u001b[1;31m# re-raise KeyboardInterrupt, to truncate traceback\u001b[0m\u001b[1;33m\u001b[0m\u001b[1;33m\u001b[0m\u001b[0m\n\u001b[1;32m-> 1051\u001b[1;33m                 \u001b[1;32mraise\u001b[0m \u001b[0mKeyboardInterrupt\u001b[0m\u001b[1;33m(\u001b[0m\u001b[1;34m\"Interrupted by user\"\u001b[0m\u001b[1;33m)\u001b[0m \u001b[1;32mfrom\u001b[0m \u001b[1;32mNone\u001b[0m\u001b[1;33m\u001b[0m\u001b[1;33m\u001b[0m\u001b[0m\n\u001b[0m\u001b[0;32m   1052\u001b[0m             \u001b[1;32mexcept\u001b[0m \u001b[0mException\u001b[0m\u001b[1;33m:\u001b[0m\u001b[1;33m\u001b[0m\u001b[1;33m\u001b[0m\u001b[0m\n\u001b[0;32m   1053\u001b[0m                 \u001b[0mself\u001b[0m\u001b[1;33m.\u001b[0m\u001b[0mlog\u001b[0m\u001b[1;33m.\u001b[0m\u001b[0mwarning\u001b[0m\u001b[1;33m(\u001b[0m\u001b[1;34m\"Invalid Message:\"\u001b[0m\u001b[1;33m,\u001b[0m \u001b[0mexc_info\u001b[0m\u001b[1;33m=\u001b[0m\u001b[1;32mTrue\u001b[0m\u001b[1;33m)\u001b[0m\u001b[1;33m\u001b[0m\u001b[1;33m\u001b[0m\u001b[0m\n",
      "\u001b[1;31mKeyboardInterrupt\u001b[0m: Interrupted by user"
     ]
    }
   ],
   "source": [
    "f2f = {'(': ')', '[': ']'}\n",
    "\n",
    "while True:\n",
    "    re = []\n",
    "    isVPS = True\n",
    "    string = input()\n",
    "    if string == \".\":\n",
    "        break\n",
    "\n",
    "    for c in string:\n",
    "        if c in f2f.keys():\n",
    "            re.append(c)\n",
    "\n",
    "        elif c in f2f.values():\n",
    "            if re:\n",
    "                if c == f2f[re.pop()]:\n",
    "                    continue\n",
    "\n",
    "            isVPS = False\n",
    "            break\n",
    "\n",
    "    if isVPS and not re:\n",
    "        print(\"Yes\")\n",
    "    else:\n",
    "        print(\"No\")\n"
   ]
  },
  {
   "cell_type": "code",
   "execution_count": 90,
   "id": "7e864bad-42e1-413a-8db3-bd2d50711bdf",
   "metadata": {},
   "outputs": [
    {
     "name": "stdin",
     "output_type": "stream",
     "text": [
      " 5\n",
      " 1\n"
     ]
    },
    {
     "name": "stdout",
     "output_type": "stream",
     "text": [
      "[] True\n",
      "['+', '-']\n"
     ]
    },
    {
     "name": "stdin",
     "output_type": "stream",
     "text": [
      " 2\n"
     ]
    },
    {
     "name": "stdout",
     "output_type": "stream",
     "text": [
      "[] True\n",
      "['+', '-', '+', '-']\n"
     ]
    },
    {
     "name": "stdin",
     "output_type": "stream",
     "text": [
      " 5\n"
     ]
    },
    {
     "name": "stdout",
     "output_type": "stream",
     "text": [
      "[3, 4] True\n",
      "['+', '-', '+', '-', '+', '+', '+', '-']\n"
     ]
    },
    {
     "name": "stdin",
     "output_type": "stream",
     "text": [
      " 3\n"
     ]
    },
    {
     "name": "stdout",
     "output_type": "stream",
     "text": [
      "[3, 4] False\n",
      "['+', '-', '+', '-', '+', '+', '+', '-']\n"
     ]
    },
    {
     "name": "stdin",
     "output_type": "stream",
     "text": [
      " 4\n"
     ]
    },
    {
     "name": "stdout",
     "output_type": "stream",
     "text": [
      "[3] True\n",
      "['+', '-', '+', '-', '+', '+', '+', '-', '-']\n",
      "NO\n"
     ]
    }
   ],
   "source": [
    "N = int(input())\n",
    "index = 0\n",
    "stack = []\n",
    "result = []\n",
    "for i in range(0, N):\n",
    "    data = int(input())\n",
    "    \n",
    "    while index < data:\n",
    "        stack.append(index+1)\n",
    "        result.append(\"+\")\n",
    "        index += 1\n",
    "    \n",
    "    if stack[-1] == data:\n",
    "        stack.pop()\n",
    "        result.append(\"-\")\n",
    "    \n",
    "if not stack:\n",
    "    print('\\n'.join(result))\n",
    "else:\n",
    "    print(\"NO\")"
   ]
  },
  {
   "cell_type": "code",
   "execution_count": 11,
   "id": "b3761f45-ca6e-4442-a607-8c6e4166e598",
   "metadata": {
    "tags": []
   },
   "outputs": [
    {
     "name": "stdin",
     "output_type": "stream",
     "text": [
      " 4\n",
      " 3 5 2 7\n"
     ]
    },
    {
     "name": "stdout",
     "output_type": "stream",
     "text": [
      "5 7 7 -1\n"
     ]
    }
   ],
   "source": [
    "# 9 5 4 7 6 8 5 4 8 9 6\n",
    "N = int(input())\n",
    "data = list(map(int, input().split()))\n",
    "stack = [0]\n",
    "result = [0 for _ in range(N)]\n",
    "result2 = [data[0]]\n",
    "# 0 1 2      1\n",
    "for i in range(1,N):\n",
    "    while stack:\n",
    "        top_index = stack[-1]\n",
    "        if data[top_index] < data[i]:\n",
    "            result[top_index] = data[i]\n",
    "            stack.pop()\n",
    "        else:\n",
    "            break\n",
    "    stack.append(i)\n",
    "    \n",
    "while stack:\n",
    "    index = stack.pop()\n",
    "    result[index] = -1\n",
    "print(' '.join(list(map(str,result))))"
   ]
  },
  {
   "cell_type": "code",
   "execution_count": 37,
   "id": "0da461ff-5e1f-49ea-8282-27776a4c70b2",
   "metadata": {},
   "outputs": [
    {
     "name": "stdin",
     "output_type": "stream",
     "text": [
      " 4\n"
     ]
    }
   ],
   "source": [
    "import sys\n",
    "N = int(input())\n",
    "queue = []\n",
    "\n",
    "class Queue:\n",
    "    def __init__(self):\n",
    "        self.size = 0\n",
    "        self.head = None\n",
    "        \n",
    "    def push(self, n):\n",
    "        self.newNode = self.Node(n)\n",
    "        if size == 0:\n",
    "            self.head = self.newNode\n",
    "            self.size += 1\n",
    "        else:\n",
    "            self.head.next = self.newNode\n",
    "            \n",
    "    class Node:\n",
    "        def __init__(self, data=0):\n",
    "            self.data = data\n",
    "            self.next = None\n",
    "            self.prev = None\n",
    "\n",
    "# def push(data):\n",
    "#     queue.append(int(data))\n",
    "# def empty():\n",
    "#     return 0 if queue else 1\n",
    "# def front():\n",
    "#     return -1 if empty() else queue[0]\n",
    "# def back():\n",
    "#     return -1 if empty() else queue[-1]\n",
    "# def size():\n",
    "#     return len(queue)\n",
    "# def pop():\n",
    "#     global queue\n",
    "#     if empty():\n",
    "#         return -1\n",
    "#     p = queue[0]\n",
    "#     queue = queue[1:]\n",
    "#     return p\n",
    "\n",
    "queue = Queue()\n",
    "\n",
    "for i in range(N):\n",
    "    input_str = input().split()\n",
    "    \n",
    "    if input_str[0] == \"push\":\n",
    "        queue.append(int(input_str[1]))\n",
    "#     elif input_str[0] == \"front\":\n",
    "#         sys.stdout.write(str(queue[0] if queue else -1)+'\\n')\n",
    "#     elif input_str[0] == \"back\":\n",
    "#         sys.stdout.write(str(queue[-1] if queue else -1)+'\\n')\n",
    "#     elif input_str[0] == \"size\":\n",
    "#         sys.stdout.write(str(len(queue))+'\\n')\n",
    "#     elif input_str[0] == \"empty\":\n",
    "#         sys.stdout.write(str(0 if queue else 1)+'\\n')\n",
    "#     elif input_str[0] == \"pop\":\n",
    "#         if queue:\n",
    "#             sys.stdout.write(str(queue[0])+'\\n')\n",
    "#             queue = queue[1:]\n",
    "#         else:\n",
    "#             sys.stdout.write(str(-1)+'\\n')"
   ]
  },
  {
   "cell_type": "code",
   "execution_count": null,
   "id": "ad5faf32-8fd9-444f-bf6e-9768539ebb87",
   "metadata": {},
   "outputs": [
    {
     "name": "stdin",
     "output_type": "stream",
     "text": [
      " 3\n",
      " push 10\n",
      " pop\n"
     ]
    },
    {
     "name": "stdout",
     "output_type": "stream",
     "text": [
      "10\n"
     ]
    }
   ],
   "source": [
    "class Node:\n",
    "    def __init__(self, x=-1):\n",
    "        self.data = x\n",
    "        self.link = None\n",
    "        self.backlink = None\n",
    "        self.size = 0\n",
    "    \n",
    "    def push(self, next_node):\n",
    "        self.link = next_node\n",
    "        next_node.backlink = self\n",
    "    \n",
    "head = tail = Node()\n",
    "    \n",
    "for i in range(int(input())):\n",
    "    input_str = input().split()\n",
    "    \n",
    "    if input_str[0] == 'push':\n",
    "        tail.push(Node(int(input_str[1])))\n",
    "        tail = tail.link\n",
    "        head.size += 1\n",
    "    elif input_str[0] == 'front':\n",
    "        if head.link == None:\n",
    "            print(-1)\n",
    "        else:\n",
    "            print(head.link.data)\n",
    "    elif input_str[0] == 'back':\n",
    "        print(tail.data)\n",
    "    elif input_str[0] == 'size':\n",
    "        print(head.size)\n",
    "    elif input_str[0] == 'pop':\n",
    "        if head.link == None:\n",
    "            print(-1)\n",
    "        else:\n",
    "            print(head.link.data)\n",
    "            head.link = head.link.link\n",
    "            head.size -= 1\n",
    "            if head.size == 0:\n",
    "                tail = head\n",
    "            \n",
    "    elif input_str[0] == \"empty\":\n",
    "        if head.size == 0:\n",
    "            print(1)\n",
    "        else:\n",
    "            print(0)"
   ]
  },
  {
   "cell_type": "code",
   "execution_count": 39,
   "id": "48e8b002-09af-4683-ac22-04dac6a5c509",
   "metadata": {
    "tags": []
   },
   "outputs": [
    {
     "name": "stdin",
     "output_type": "stream",
     "text": [
      " 6\n"
     ]
    },
    {
     "name": "stdout",
     "output_type": "stream",
     "text": [
      "123456\n",
      "4\n"
     ]
    }
   ],
   "source": [
    "class Node:\n",
    "    def __init__(self, x=-1):\n",
    "        self.data = x\n",
    "        self.link = None\n",
    "        self.size = 0\n",
    "    \n",
    "    def push(self, next_node):\n",
    "        self.link = next_node\n",
    "        \n",
    "head = tail = Node()\n",
    "for i in range(1, int(input())+1):\n",
    "    tail.push(Node(i))\n",
    "    tail = tail.link\n",
    "    head.size += 1\n",
    "\n",
    "show(head)\n",
    "step = False\n",
    "while head.size != 1:\n",
    "    step = not step\n",
    "    if step:\n",
    "        head.link = head.link.link\n",
    "        head.size -= 1\n",
    "    else:\n",
    "        tail.link = Node(head.link.data)\n",
    "        head.link = head.link.link\n",
    "        tail = tail.link\n",
    "\n",
    "print(head.link.data)"
   ]
  },
  {
   "cell_type": "code",
   "execution_count": 34,
   "id": "9c2f0a3c-c488-4ac5-bfdf-ad94bf7d7412",
   "metadata": {},
   "outputs": [],
   "source": [
    "def show(head):\n",
    "    h = head.link\n",
    "    while h:\n",
    "        print(h.data, end='')\n",
    "        h = h.link\n",
    "    print()"
   ]
  },
  {
   "cell_type": "code",
   "execution_count": 16,
   "id": "71e9ec5a-d6ea-478b-b314-fcdd9519bc84",
   "metadata": {},
   "outputs": [
    {
     "name": "stdin",
     "output_type": "stream",
     "text": [
      " 3  2\n"
     ]
    },
    {
     "name": "stdout",
     "output_type": "stream",
     "text": [
      "<2, 1, 3>\n"
     ]
    }
   ],
   "source": [
    "class Node():\n",
    "    def __init__(self, x=-1):\n",
    "        self.data =x\n",
    "        self.link = None\n",
    "        self.back = None\n",
    "        self.size= 0\n",
    "        \n",
    "    def push(self, next_node):\n",
    "        self.link = next_node\n",
    "        next_node.back = self\n",
    "    \n",
    "head = tail = Node()\n",
    "N, K = map(int, input().split())\n",
    "for i in range(1,N+1):\n",
    "    tail.push(Node(i))\n",
    "    tail=tail.link\n",
    "    head.size += 1\n",
    "\n",
    "tail.link = head.link\n",
    "head.link.back = tail\n",
    "h = head.link\n",
    "h_size = head.size\n",
    "result = []\n",
    "while h_size != 0:\n",
    "    for i in range(K-1):\n",
    "        h = h.link\n",
    "    result.append(h.data) # 1 2 3 4 5 6 7 \n",
    "    h.back.link = h.link\n",
    "    h.link.back = h.back\n",
    "    h = h.link\n",
    "    h_size -= 1\n",
    "\n",
    "print(\"<\"+', '.join(map(str,result))+\">\")"
   ]
  },
  {
   "cell_type": "code",
   "execution_count": 1,
   "id": "c8ca2c9f-4ecb-4404-b45f-11b2e9bf81e7",
   "metadata": {},
   "outputs": [
    {
     "name": "stdin",
     "output_type": "stream",
     "text": [
      " 1\n",
      " 4 2\n",
      " 1 2 3 4\n"
     ]
    },
    {
     "name": "stdout",
     "output_type": "stream",
     "text": [
      "2\n"
     ]
    },
    {
     "ename": "NameError",
     "evalue": "name 'result' is not defined",
     "output_type": "error",
     "traceback": [
      "\u001b[1;31m---------------------------------------------------------------------------\u001b[0m",
      "\u001b[1;31mNameError\u001b[0m                                 Traceback (most recent call last)",
      "\u001b[1;32m~\\AppData\\Local\\Temp/ipykernel_13116/1691036684.py\u001b[0m in \u001b[0;36m<module>\u001b[1;34m\u001b[0m\n\u001b[0;32m     61\u001b[0m         \u001b[0mcount\u001b[0m\u001b[1;33m+=\u001b[0m\u001b[1;36m1\u001b[0m\u001b[1;33m\u001b[0m\u001b[1;33m\u001b[0m\u001b[0m\n\u001b[0;32m     62\u001b[0m \u001b[1;33m\u001b[0m\u001b[0m\n\u001b[1;32m---> 63\u001b[1;33m \u001b[0mprint\u001b[0m\u001b[1;33m(\u001b[0m\u001b[0mresult\u001b[0m\u001b[1;33m)\u001b[0m\u001b[1;33m\u001b[0m\u001b[1;33m\u001b[0m\u001b[0m\n\u001b[0m",
      "\u001b[1;31mNameError\u001b[0m: name 'result' is not defined"
     ]
    }
   ],
   "source": [
    "class Node:\n",
    "    def __init__(self, x=-1):\n",
    "        self.link = None\n",
    "        self.data = x\n",
    "        self.size = 0\n",
    "        self.isImport = False\n",
    "    \n",
    "    def push(self, nextNode):\n",
    "        self.link = nextNode\n",
    "      \n",
    "    def pop(self):\n",
    "        self.link = self.link.link\n",
    "        \n",
    "total = int(input())\n",
    "\n",
    "\n",
    "def importantIndex(head):\n",
    "    index = 0\n",
    "    # 1 2 3 4\n",
    "\n",
    "    max_data = head.link.data\n",
    "    h = head.link.link\n",
    "    i=1\n",
    "    while h:\n",
    "        if max_data < h.data:\n",
    "            index = i\n",
    "            max_data = h.data\n",
    "        h = h.link\n",
    "        i += 1\n",
    "    return index\n",
    "    \n",
    "\n",
    "for i in range(total):\n",
    "    doc, im = map(int, input().split())   \n",
    "    data = list(map(int, input().split()))\n",
    "    \n",
    "    head = tail = Node()\n",
    "    for i,d in enumerate(data):\n",
    "        tail.push(Node(d))\n",
    "        tail = tail.link\n",
    "        head.size += 1\n",
    "        if i == im:\n",
    "            tail.isImport = True\n",
    "    \n",
    "    count = 1\n",
    "    while True:\n",
    "        index = importantIndex(head)\n",
    "        \n",
    "        for _ in range(index):\n",
    "            tail.push(head.link)\n",
    "            tail = tail.link\n",
    "            head.pop()\n",
    "            tail.link=None\n",
    "        \n",
    "        if head.link.isImport:\n",
    "            print(count)\n",
    "            break\n",
    "            \n",
    "        head.pop()\n",
    "        head.size -= 1\n",
    "        count+=1"
   ]
  }
 ],
 "metadata": {
  "kernelspec": {
   "display_name": "Python 3 (ipykernel)",
   "language": "python",
   "name": "python3"
  },
  "language_info": {
   "codemirror_mode": {
    "name": "ipython",
    "version": 3
   },
   "file_extension": ".py",
   "mimetype": "text/x-python",
   "name": "python",
   "nbconvert_exporter": "python",
   "pygments_lexer": "ipython3",
   "version": "3.9.7"
  }
 },
 "nbformat": 4,
 "nbformat_minor": 5
}
